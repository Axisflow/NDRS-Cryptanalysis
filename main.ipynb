{
 "cells": [
  {
   "cell_type": "markdown",
   "metadata": {},
   "source": [
    "# Gao's NDRS"
   ]
  },
  {
   "cell_type": "markdown",
   "metadata": {},
   "source": [
    "1. Setup($1^k$)\n",
    "2. KeyGen($\\mathbb{P}$)\n",
    "3. Sign($\\mathbb{P}, R, {sk}_j, \\mu$)\n",
    "4. Verify($\\mathbb{P}, R, \\mu, \\sigma$)\n",
    "5. EvidenceGen($\\mathbb{P}, R, {sk}_i, \\mu, \\sigma$)\n",
    "6. EvidenceCheck($\\mathbb{P}, R, i, \\xi_i, \\mu, \\sigma$)"
   ]
  },
  {
   "cell_type": "markdown",
   "metadata": {},
   "source": [
    "## Import"
   ]
  },
  {
   "cell_type": "code",
   "execution_count": 9,
   "metadata": {},
   "outputs": [],
   "source": [
    "from random import *\n",
    "from ndrs import *"
   ]
  },
  {
   "cell_type": "markdown",
   "metadata": {},
   "source": [
    "## NDRS"
   ]
  },
  {
   "cell_type": "code",
   "execution_count": 2,
   "metadata": {},
   "outputs": [],
   "source": [
    "def original(k: int, N: int, msg: str):\n",
    "    # Create a new NDRS crypto object\n",
    "    ndrs = NDRS(k)\n",
    "    print(ndrs)\n",
    "\n",
    "    keys = list[KeyPair]()\n",
    "    for i in range(N):\n",
    "        # Add a new signer\n",
    "        keys.append(ndrs.key_gen())\n",
    "        print(f\"The key of Signer {i} added: {keys[i]}\")\n",
    "\n",
    "    print()\n",
    "\n",
    "    # A real signer\n",
    "    signer_index = randint(0, N-1)\n",
    "    signer = keys[signer_index]\n",
    "    \n",
    "    # Choose the random amount of other signers except the real signer\n",
    "    other_signer_indices = sample([i for i in range(N) if i != signer_index], randint(1, N-1))\n",
    "    other_signers = [keys[i].pk for i in other_signer_indices]\n",
    "\n",
    "    # Sign a message\n",
    "    print(f\"Signers {other_signer_indices} help the real signer {signer_index} to sign the message: {msg}\")\n",
    "    sig = ndrs.sign(signer, other_signers, msg)\n",
    "    print(f\"Signature: {sig}\")\n",
    "    \n",
    "    # Verify the signature\n",
    "    if ndrs.verify(msg, sig):\n",
    "        print(\"Signature is valid (accept)\")\n",
    "    else:\n",
    "        print(\"Signature is invalid (reject)\")\n",
    "\n",
    "    print()\n",
    "\n",
    "    # Generate an evidence\n",
    "    evi = ndrs.evidence_gen(signer, msg, sig)\n",
    "    print(f\"Evidence for real signer: {evi}\")\n",
    "\n",
    "    # Verify the evidence\n",
    "    try:\n",
    "        if ndrs.evidence_check(signer, msg, sig, evi):\n",
    "            print(\"Evidence is valid (confirmation)\")\n",
    "        else:\n",
    "            print(\"Evidence is invalid (disavowal)\")\n",
    "    except Exception as e:\n",
    "        print(f\"Evidence is invalid (failed)\")"
   ]
  },
  {
   "cell_type": "markdown",
   "metadata": {},
   "source": [
    "## Attack"
   ]
  },
  {
   "cell_type": "code",
   "execution_count": 18,
   "metadata": {},
   "outputs": [],
   "source": [
    "def attack(k: int, N: int, msg: str):\n",
    "    # Create a new NDRS crypto object\n",
    "    ndrs = Frameable_NDRS(k)\n",
    "    print(ndrs)\n",
    "\n",
    "    keys = list[KeyPair]()\n",
    "    for i in range(N):\n",
    "        # Add a new signer\n",
    "        keys.append(ndrs.key_gen())\n",
    "        print(f\"The key of Signer {i} added: {keys[i]}\")\n",
    "\n",
    "    print()\n",
    "\n",
    "    # A real signer\n",
    "    signer_index = randint(0, N-1)\n",
    "    signer, fake_skey = ndrs.fake_skey_gen(keys[signer_index])\n",
    "    print(f\"The real secret key of the malicious signer: {keys[signer_index].sk}\")\n",
    "    print(f\"The fake secret key of the malicious signer: {fake_skey}\")\n",
    "    print(f\"And the public key of the malicious signer has been changed to: {keys[signer_index].pk}\")\n",
    "    \n",
    "    # Choose the random amount of other signers except the real signer\n",
    "    other_signer_indices = sample([i for i in range(N) if i != signer_index], randint(1, N-1))\n",
    "    other_signers = [keys[i].pk for i in other_signer_indices]\n",
    "    framed_idx = choice(other_signer_indices)\n",
    "\n",
    "    print()\n",
    "\n",
    "    # Sign a message\n",
    "    print(f\"Signers {other_signer_indices} help the malicious signer {signer_index} that want to frame the honest signer {framed_idx} to sign the message: {msg}\")\n",
    "    sig = ndrs.frameably_sign(KeyPair(signer.pk, fake_skey), other_signers, msg, other_signer_indices.index(framed_idx))\n",
    "    print(f\"Signature: {sig}\")\n",
    "    \n",
    "    # Verify the signature\n",
    "    if ndrs.verify(msg, sig):\n",
    "        print(\"Signature is valid\")\n",
    "    else:\n",
    "        print(\"Signature is invalid\")\n",
    "\n",
    "    print()\n",
    "\n",
    "    # Generate an evidence for the malicious signer\n",
    "    evi = ndrs.evidence_gen(signer, msg, sig)\n",
    "    print(f\"Evidence for malicious signer: {evi}\")\n",
    "\n",
    "    # Verify the evidence of the malicious signer\n",
    "    try:\n",
    "        if ndrs.evidence_check(signer, msg, sig, evi):\n",
    "            print(\"Evidence is valid (confirmation)\")\n",
    "        else:\n",
    "            print(\"Evidence is invalid (disavowal)\")\n",
    "    except Exception as e:\n",
    "        print(f\"Evidence is invalid (failed)\")\n",
    "\n",
    "    print()\n",
    "\n",
    "    # Generate an evidence for the honest signer\n",
    "    evi = ndrs.evidence_gen(keys[framed_idx], msg, sig)\n",
    "    print(f\"Evidence for honest signer: {evi}\")\n",
    "\n",
    "    # Verify the evidence of the honest signer\n",
    "    try:\n",
    "        if ndrs.evidence_check(keys[framed_idx], msg, sig, evi):\n",
    "            print(\"Evidence is valid (confirmation)\")\n",
    "        else:\n",
    "            print(\"Evidence is invalid (disavowal)\")\n",
    "    except Exception as e:\n",
    "        print(f\"Evidence is invalid (failed)\")"
   ]
  },
  {
   "cell_type": "markdown",
   "metadata": {},
   "source": [
    "## Security Proof"
   ]
  },
  {
   "cell_type": "code",
   "execution_count": null,
   "metadata": {},
   "outputs": [],
   "source": [
    "original(10, 5, \"我最愛密碼學了！\")"
   ]
  },
  {
   "cell_type": "code",
   "execution_count": null,
   "metadata": {},
   "outputs": [],
   "source": [
    "attack(10, 5, \"我最愛密碼學了！\")"
   ]
  }
 ],
 "metadata": {
  "kernelspec": {
   "display_name": ".venv",
   "language": "python",
   "name": "python3"
  },
  "language_info": {
   "codemirror_mode": {
    "name": "ipython",
    "version": 3
   },
   "file_extension": ".py",
   "mimetype": "text/x-python",
   "name": "python",
   "nbconvert_exporter": "python",
   "pygments_lexer": "ipython3",
   "version": "3.12.8"
  }
 },
 "nbformat": 4,
 "nbformat_minor": 2
}
