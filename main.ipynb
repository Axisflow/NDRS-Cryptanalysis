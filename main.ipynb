{
 "cells": [
  {
   "cell_type": "markdown",
   "metadata": {},
   "source": [
    "# Gao's NDRS"
   ]
  },
  {
   "cell_type": "markdown",
   "metadata": {},
   "source": [
    "1. Setup($1^k$)\n",
    "2. KeyGen($\\mathbb{P}$)\n",
    "3. Sign($\\mathbb{P}, R, {sk}_j, \\mu$)\n",
    "4. Verify($\\mathbb{P}, R, \\mu, \\sigma$)\n",
    "5. EvidenceGen($\\mathbb{P}, R, {sk}_i, \\mu, \\sigma$)\n",
    "6. EvidenceCheck($\\mathbb{P}, R, i, \\xi_i, \\mu, \\sigma$)"
   ]
  },
  {
   "cell_type": "markdown",
   "metadata": {},
   "source": [
    "## Import"
   ]
  },
  {
   "cell_type": "code",
   "execution_count": 1,
   "metadata": {},
   "outputs": [],
   "source": [
    "from ndrs import *"
   ]
  },
  {
   "cell_type": "markdown",
   "metadata": {},
   "source": [
    "## NDRS"
   ]
  },
  {
   "cell_type": "code",
   "execution_count": 2,
   "metadata": {},
   "outputs": [],
   "source": [
    "def original():\n",
    "    # Define constants\n",
    "    k = 10 # Sercurity parameter\n",
    "    N = 5 # Number of signers\n",
    "\n",
    "    # Create a new NDRS crypto object\n",
    "    ndrs = NDRS(k)\n",
    "    print(ndrs)\n",
    "\n",
    "    keys = list[KeyPair]()\n",
    "    for i in range(N):\n",
    "        # Add a new signer\n",
    "        keys.append(ndrs.key_gen())\n",
    "        print(f\"The key of Signer {i + 1} added: {keys[i]}\")\n",
    "\n",
    "    signer = keys[0]\n",
    "    other_signers = [keys[2].pk, keys[3].pk]\n",
    "\n",
    "    # Sign a message\n",
    "    sig = ndrs.sign(signer, other_signers, \"我最愛密碼學了！\")\n",
    "    print(f\"Signature: {sig}\")\n",
    "    \n",
    "    # Verify the signature\n",
    "    if ndrs.verify(\"我最愛密碼學了！\", sig):\n",
    "        print(\"Signature is valid (accept)\")\n",
    "    else:\n",
    "        print(\"Signature is invalid (reject)\")\n",
    "\n",
    "    # Generate an evidence\n",
    "    evi = ndrs.evidence_gen(signer, \"我最愛密碼學了！\", sig)\n",
    "    print(f\"Evidence: {evi}\")\n",
    "\n",
    "    # Verify the evidence\n",
    "    try:\n",
    "        if ndrs.evidence_check(evi):\n",
    "            print(\"Evidence is valid (confirmation)\")\n",
    "        else:\n",
    "            print(\"Evidence is invalid (disavowal)\")\n",
    "    except Exception as e:\n",
    "        print(f\"Evidence is invalid (failed)\")"
   ]
  },
  {
   "cell_type": "markdown",
   "metadata": {},
   "source": [
    "## Attack"
   ]
  },
  {
   "cell_type": "code",
   "execution_count": 3,
   "metadata": {},
   "outputs": [],
   "source": [
    "def attack():\n",
    "    # Define constants\n",
    "    k = 512 # Sercurity parameter\n",
    "    N = 5 # Number of signers\n",
    "\n",
    "    # Create a new NDRS crypto object\n",
    "    ndrs = Frameable_NDRS(k)\n",
    "    print(ndrs)\n",
    "\n",
    "    keys = list[KeyPair]()\n",
    "    for i in range(N):\n",
    "        # Add a new signer\n",
    "        keys.append(ndrs.key_gen())\n",
    "\n",
    "    signer, fake_skey = ndrs.fake_skey_gen(keys[0])\n",
    "    other_signers = [keys[2].pk, keys[3].pk]\n",
    "\n",
    "    # Sign a message\n",
    "    sig = ndrs.frameably_sign(KeyPair(signer.pk, fake_skey), other_signers, \"我最愛密碼學了！\", 0)\n",
    "    \n",
    "    \n",
    "    # Verify the signature\n",
    "    if ndrs.verify(\"我最愛密碼學了！\", sig):\n",
    "        print(\"Signature is valid\")\n",
    "    else:\n",
    "        print(\"Signature is invalid\")\n",
    "\n",
    "    # Generate an evidence\n",
    "    evi = ndrs.evidence_gen(signer, \"我最愛密碼學了！\", sig)\n",
    "\n",
    "    # Verify the evidence\n",
    "    try:\n",
    "        if ndrs.evidence_check(evi):\n",
    "            print(\"Evidence is valid (confirmation)\")\n",
    "        else:\n",
    "            print(\"Evidence is invalid (disavowal)\")\n",
    "    except Exception as e:\n",
    "        print(f\"Evidence is invalid (failed)\")"
   ]
  },
  {
   "cell_type": "markdown",
   "metadata": {},
   "source": [
    "## Security Proof"
   ]
  },
  {
   "cell_type": "code",
   "execution_count": null,
   "metadata": {},
   "outputs": [],
   "source": [
    "original()"
   ]
  },
  {
   "cell_type": "code",
   "execution_count": null,
   "metadata": {},
   "outputs": [],
   "source": [
    "attack()"
   ]
  }
 ],
 "metadata": {
  "kernelspec": {
   "display_name": ".venv",
   "language": "python",
   "name": "python3"
  },
  "language_info": {
   "codemirror_mode": {
    "name": "ipython",
    "version": 3
   },
   "file_extension": ".py",
   "mimetype": "text/x-python",
   "name": "python",
   "nbconvert_exporter": "python",
   "pygments_lexer": "ipython3",
   "version": "3.12.8"
  }
 },
 "nbformat": 4,
 "nbformat_minor": 2
}
